{
 "cells": [
  {
   "cell_type": "markdown",
   "metadata": {},
   "source": [
    "# Variables and variable types\n",
    "\n",
    "## \"Regular\" variables\n",
    "\n",
    "1. strings\n",
    "1. integers\n",
    "1. floats\n",
    "\n",
    "## \"Collection\" variables\n",
    "\n",
    "1. tuples\n",
    "1. lists\n",
    "1. sets\n",
    "1. dictionaries\n",
    "\n",
    "From https://www.w3schools.com:\n",
    "\n",
    "- **Strings** are for storing text\n",
    "- **Integers** are for storing whole numbers, positive or negative (such as 123 or -456), without decimals.\n",
    "- **Floats** are for storing positive and negative numbers with a decimal point, like 35.3, or -2.34\n",
    "- **Lists** are collections which are ordered and changeable. Allows duplicate members.\n",
    "- **Tuples** are collections which are ordered and unchangeable. Allows duplicate members.\n",
    "- **Sets** are collections which are unordered, \"unchangeable\", and unindexed. No duplicate members.\n",
    "- **Dictionaries** are collections which are ordered and changeable. No duplicate members."
   ]
  },
  {
   "cell_type": "markdown",
   "metadata": {},
   "source": [
    "## Strings"
   ]
  },
  {
   "cell_type": "code",
   "execution_count": 2,
   "metadata": {},
   "outputs": [],
   "source": [
    "recursive = 'recursive'"
   ]
  },
  {
   "cell_type": "markdown",
   "metadata": {},
   "source": [
    "## Integers"
   ]
  },
  {
   "cell_type": "code",
   "execution_count": 3,
   "metadata": {},
   "outputs": [],
   "source": [
    "integer = 1"
   ]
  },
  {
   "cell_type": "markdown",
   "metadata": {},
   "source": [
    "## Floats"
   ]
  },
  {
   "cell_type": "code",
   "execution_count": 4,
   "metadata": {},
   "outputs": [],
   "source": [
    "floooat = 2.23"
   ]
  },
  {
   "cell_type": "markdown",
   "metadata": {},
   "source": [
    "## Lists"
   ]
  },
  {
   "cell_type": "code",
   "execution_count": 63,
   "metadata": {},
   "outputs": [
    {
     "data": {
      "text/plain": [
       "list"
      ]
     },
     "execution_count": 63,
     "metadata": {},
     "output_type": "execute_result"
    }
   ],
   "source": [
    "my_string_list = [1, \"sheep\", \"jumped\", \"the\", \"fence\"]\n",
    "office = ['lamp','stool', 'mailclient']\n",
    "factory = ['assemblyline', 'breakroom', 'storagespace']\n",
    "type(my_string_list)"
   ]
  },
  {
   "cell_type": "code",
   "execution_count": 31,
   "metadata": {},
   "outputs": [],
   "source": [
    "company = [office, factory]"
   ]
  },
  {
   "cell_type": "code",
   "execution_count": 64,
   "metadata": {},
   "outputs": [
    {
     "name": "stdout",
     "output_type": "stream",
     "text": [
      "lamp\n",
      "['lamp', 'stool', 'mailclient']\n",
      "stool\n"
     ]
    }
   ],
   "source": [
    "## indexing\n",
    "\n",
    "# normal indexing\n",
    "print(office[0]) \n",
    "\n",
    "# slicing\n",
    "print(office[0:3]) \n",
    "\n",
    "# accessing item 1 in the 0th list in the nested list structure\n",
    "print(company[0][1])"
   ]
  },
  {
   "cell_type": "code",
   "execution_count": 65,
   "metadata": {},
   "outputs": [
    {
     "data": {
      "text/plain": [
       "['hiddenlight', 'stool', 'mailclient', 'desk']"
      ]
     },
     "execution_count": 65,
     "metadata": {},
     "output_type": "execute_result"
    }
   ],
   "source": [
    "## lists are changeable!\n",
    "company[0][0] = 'hiddenlight'\n",
    "company[0]"
   ]
  },
  {
   "cell_type": "markdown",
   "metadata": {},
   "source": [
    "notes on the controls in jupyter notebook\n",
    "- \"a\" = new cell above\n",
    "- \"b\" = new  cell below"
   ]
  },
  {
   "cell_type": "code",
   "execution_count": 23,
   "metadata": {
    "collapsed": true,
    "jupyter": {
     "outputs_hidden": true
    },
    "scrolled": true
   },
   "outputs": [
    {
     "data": {
      "text/plain": [
       "['__abs__',\n",
       " '__add__',\n",
       " '__and__',\n",
       " '__bool__',\n",
       " '__ceil__',\n",
       " '__class__',\n",
       " '__delattr__',\n",
       " '__dir__',\n",
       " '__divmod__',\n",
       " '__doc__',\n",
       " '__eq__',\n",
       " '__float__',\n",
       " '__floor__',\n",
       " '__floordiv__',\n",
       " '__format__',\n",
       " '__ge__',\n",
       " '__getattribute__',\n",
       " '__getnewargs__',\n",
       " '__gt__',\n",
       " '__hash__',\n",
       " '__index__',\n",
       " '__init__',\n",
       " '__init_subclass__',\n",
       " '__int__',\n",
       " '__invert__',\n",
       " '__le__',\n",
       " '__lshift__',\n",
       " '__lt__',\n",
       " '__mod__',\n",
       " '__mul__',\n",
       " '__ne__',\n",
       " '__neg__',\n",
       " '__new__',\n",
       " '__or__',\n",
       " '__pos__',\n",
       " '__pow__',\n",
       " '__radd__',\n",
       " '__rand__',\n",
       " '__rdivmod__',\n",
       " '__reduce__',\n",
       " '__reduce_ex__',\n",
       " '__repr__',\n",
       " '__rfloordiv__',\n",
       " '__rlshift__',\n",
       " '__rmod__',\n",
       " '__rmul__',\n",
       " '__ror__',\n",
       " '__round__',\n",
       " '__rpow__',\n",
       " '__rrshift__',\n",
       " '__rshift__',\n",
       " '__rsub__',\n",
       " '__rtruediv__',\n",
       " '__rxor__',\n",
       " '__setattr__',\n",
       " '__sizeof__',\n",
       " '__str__',\n",
       " '__sub__',\n",
       " '__subclasshook__',\n",
       " '__truediv__',\n",
       " '__trunc__',\n",
       " '__xor__',\n",
       " 'as_integer_ratio',\n",
       " 'bit_count',\n",
       " 'bit_length',\n",
       " 'conjugate',\n",
       " 'denominator',\n",
       " 'from_bytes',\n",
       " 'imag',\n",
       " 'numerator',\n",
       " 'real',\n",
       " 'to_bytes']"
      ]
     },
     "execution_count": 23,
     "metadata": {},
     "output_type": "execute_result"
    }
   ],
   "source": [
    "# checking properties and attributes of different variables\n",
    "dir(my_string_list)\n",
    "dir(integer)"
   ]
  },
  {
   "cell_type": "code",
   "execution_count": 22,
   "metadata": {},
   "outputs": [
    {
     "data": {
      "text/plain": [
       "b'\\x01'"
      ]
     },
     "execution_count": 22,
     "metadata": {},
     "output_type": "execute_result"
    }
   ],
   "source": [
    "integer.to_bytes(1, \"little\")"
   ]
  },
  {
   "cell_type": "markdown",
   "metadata": {},
   "source": [
    "## Tuples"
   ]
  },
  {
   "cell_type": "code",
   "execution_count": 86,
   "metadata": {},
   "outputs": [
    {
     "data": {
      "text/plain": [
       "tuple"
      ]
     },
     "execution_count": 86,
     "metadata": {},
     "output_type": "execute_result"
    }
   ],
   "source": [
    "financial_crisis = ('investment', 'stock', 'inflation') # denoted with normal brackets\n",
    "type(financial_crisis)"
   ]
  },
  {
   "cell_type": "code",
   "execution_count": 87,
   "metadata": {},
   "outputs": [
    {
     "data": {
      "text/plain": [
       "'inflation'"
      ]
     },
     "execution_count": 87,
     "metadata": {},
     "output_type": "execute_result"
    }
   ],
   "source": [
    "# we can index them\n",
    "financial_crisis[-1]"
   ]
  },
  {
   "cell_type": "code",
   "execution_count": 94,
   "metadata": {},
   "outputs": [
    {
     "name": "stdout",
     "output_type": "stream",
     "text": [
      "('investment', 'stock', 'inflation', 'crash')\n"
     ]
    }
   ],
   "source": [
    "# . . . but we cannot change them in any fashion\n",
    "#financial_crisis[-1] = 'crash'\n",
    "#financial_crisis.append('crash')\n",
    "\n",
    "# only if we redefine the tuple\n",
    "financial_crisis = ('investment', 'stock', 'inflation', 'crash')\n",
    "print(financial_crisis)"
   ]
  },
  {
   "cell_type": "markdown",
   "metadata": {},
   "source": [
    "## Sets"
   ]
  },
  {
   "cell_type": "code",
   "execution_count": 69,
   "metadata": {},
   "outputs": [],
   "source": [
    "dir(office)\n",
    "office.append('desk') # notice that we do not assign this to the variable - it automatically updates"
   ]
  },
  {
   "cell_type": "code",
   "execution_count": 67,
   "metadata": {},
   "outputs": [
    {
     "name": "stdout",
     "output_type": "stream",
     "text": [
      "['lamp', 'stool', 'mailclient', 'desk']\n"
     ]
    }
   ],
   "source": [
    "print(office)"
   ]
  },
  {
   "cell_type": "code",
   "execution_count": 72,
   "metadata": {},
   "outputs": [
    {
     "data": {
      "text/plain": [
       "{'desk', 'lamp', 'mailclient', 'stool'}"
      ]
     },
     "execution_count": 72,
     "metadata": {},
     "output_type": "execute_result"
    }
   ],
   "source": [
    "set(office) # the set only shows the unique items in the list/tuple structure"
   ]
  },
  {
   "cell_type": "code",
   "execution_count": 76,
   "metadata": {},
   "outputs": [
    {
     "name": "stdout",
     "output_type": "stream",
     "text": [
      "['lamp', 'stool', 'mailclient', 'desk', 'desk', 'desk', 'carpeting', 'carpeting', 'carpeting', 'carpeting', 'carpeting']\n"
     ]
    },
    {
     "data": {
      "text/plain": [
       "{'carpeting', 'desk', 'lamp', 'mailclient', 'stool'}"
      ]
     },
     "execution_count": 76,
     "metadata": {},
     "output_type": "execute_result"
    }
   ],
   "source": [
    "# so if we append more identical items . . .\n",
    "office.append('carpeting')\n",
    "office.append('carpeting')\n",
    "\n",
    "# it will show up in the list:\n",
    "print(office)\n",
    "\n",
    "# but not in the set:\n",
    "set(office)"
   ]
  },
  {
   "cell_type": "code",
   "execution_count": 85,
   "metadata": {},
   "outputs": [],
   "source": [
    "# the set seems equivalent to the unique function in R"
   ]
  },
  {
   "cell_type": "markdown",
   "metadata": {},
   "source": [
    "## Dictionaries"
   ]
  },
  {
   "cell_type": "code",
   "execution_count": 95,
   "metadata": {},
   "outputs": [],
   "source": [
    "# dictionaries are built up using keys and values:\n",
    "christian = {'name': 'Christian',\n",
    "             'age': 26,\n",
    "             'hair': 'mid',\n",
    "             'likes': 'lunch',\n",
    "             'dislikes': 'pricy lunch!'}"
   ]
  },
  {
   "cell_type": "code",
   "execution_count": 96,
   "metadata": {},
   "outputs": [
    {
     "data": {
      "text/plain": [
       "'Christian'"
      ]
     },
     "execution_count": 96,
     "metadata": {},
     "output_type": "execute_result"
    }
   ],
   "source": [
    "christian['name']"
   ]
  },
  {
   "cell_type": "code",
   "execution_count": 97,
   "metadata": {},
   "outputs": [],
   "source": [
    "# question: when do we use dictionaries? \n",
    "# answer: they are kind of like data frames! We have a column name (key) and a lot of entries in that column (values)."
   ]
  },
  {
   "cell_type": "code",
   "execution_count": 99,
   "metadata": {},
   "outputs": [],
   "source": [
    "# let's extend the dictionary:\n",
    "people = {'name': ['Christian' , 'x'],\n",
    "             'age': [26 , 25],\n",
    "             'hair': ['mid' , 'long'],\n",
    "             'likes': ['lunch' , 'lunch'],\n",
    "             'dislikes': ['pricy lunch!', 'cold lunch']}"
   ]
  },
  {
   "cell_type": "code",
   "execution_count": 103,
   "metadata": {},
   "outputs": [
    {
     "data": {
      "text/plain": [
       "['Christian', 'x']"
      ]
     },
     "execution_count": 103,
     "metadata": {},
     "output_type": "execute_result"
    }
   ],
   "source": [
    "people['name']"
   ]
  },
  {
   "cell_type": "markdown",
   "metadata": {},
   "source": [
    "# Loops"
   ]
  },
  {
   "cell_type": "code",
   "execution_count": 105,
   "metadata": {},
   "outputs": [
    {
     "name": "stdout",
     "output_type": "stream",
     "text": [
      "0\n",
      "1\n",
      "2\n",
      "3\n",
      "4\n"
     ]
    }
   ],
   "source": [
    "for x in range(5):\n",
    "    print(x)"
   ]
  },
  {
   "cell_type": "code",
   "execution_count": 106,
   "metadata": {},
   "outputs": [
    {
     "data": {
      "text/plain": [
       "['lamp',\n",
       " 'stool',\n",
       " 'mailclient',\n",
       " 'desk',\n",
       " 'desk',\n",
       " 'desk',\n",
       " 'carpeting',\n",
       " 'carpeting',\n",
       " 'carpeting',\n",
       " 'carpeting',\n",
       " 'carpeting']"
      ]
     },
     "execution_count": 106,
     "metadata": {},
     "output_type": "execute_result"
    }
   ],
   "source": [
    "office"
   ]
  },
  {
   "cell_type": "code",
   "execution_count": 109,
   "metadata": {},
   "outputs": [
    {
     "name": "stdout",
     "output_type": "stream",
     "text": [
      "lamp\n",
      "stool\n",
      "mailclient\n",
      "desk\n",
      "desk\n",
      "desk\n",
      "carpeting\n",
      "carpeting\n",
      "carpeting\n",
      "carpeting\n",
      "carpeting\n"
     ]
    }
   ],
   "source": [
    "for item in range(len(office)):\n",
    "    print(office[item]) # extremely elaborate to print the list ha"
   ]
  },
  {
   "cell_type": "code",
   "execution_count": 110,
   "metadata": {},
   "outputs": [
    {
     "name": "stdout",
     "output_type": "stream",
     "text": [
      "lamp\n",
      "stool\n",
      "mailclient\n",
      "desk\n",
      "desk\n",
      "desk\n",
      "carpeting\n",
      "carpeting\n",
      "carpeting\n",
      "carpeting\n",
      "carpeting\n"
     ]
    }
   ],
   "source": [
    "# alternative\n",
    "for item in office:\n",
    "    print(item)"
   ]
  },
  {
   "cell_type": "code",
   "execution_count": 111,
   "metadata": {},
   "outputs": [
    {
     "data": {
      "text/plain": [
       "['lamp',\n",
       " 'stool',\n",
       " 'mailclient',\n",
       " 'desk',\n",
       " 'desk',\n",
       " 'desk',\n",
       " 'carpeting',\n",
       " 'carpeting',\n",
       " 'carpeting',\n",
       " 'carpeting',\n",
       " 'carpeting']"
      ]
     },
     "execution_count": 111,
     "metadata": {},
     "output_type": "execute_result"
    }
   ],
   "source": [
    "# another alternative\n",
    "f = [x for x in office]\n",
    "f"
   ]
  },
  {
   "cell_type": "code",
   "execution_count": 113,
   "metadata": {},
   "outputs": [
    {
     "data": {
      "text/plain": [
       "['We need a new lamp',\n",
       " 'We need a new stool',\n",
       " 'We need a new mailclient',\n",
       " 'We need a new desk',\n",
       " 'We need a new desk',\n",
       " 'We need a new desk',\n",
       " 'We need a new carpeting',\n",
       " 'We need a new carpeting',\n",
       " 'We need a new carpeting',\n",
       " 'We need a new carpeting',\n",
       " 'We need a new carpeting']"
      ]
     },
     "execution_count": 113,
     "metadata": {},
     "output_type": "execute_result"
    }
   ],
   "source": [
    "f_2 = [\"We need a new \" + x for x in office]\n",
    "f_2"
   ]
  },
  {
   "cell_type": "markdown",
   "metadata": {},
   "source": [
    "# Conditionals"
   ]
  },
  {
   "cell_type": "code",
   "execution_count": 121,
   "metadata": {},
   "outputs": [
    {
     "name": "stdout",
     "output_type": "stream",
     "text": [
      "stool\n"
     ]
    }
   ],
   "source": [
    "for item in office: \n",
    "    if item.startswith('s'):\n",
    "        print(item) # this also needs an ident"
   ]
  },
  {
   "cell_type": "code",
   "execution_count": 138,
   "metadata": {},
   "outputs": [
    {
     "name": "stdout",
     "output_type": "stream",
     "text": [
      "desk\n",
      "desk\n",
      "desk\n"
     ]
    }
   ],
   "source": [
    "for item in office:\n",
    "    if 'e' in item and 's' in item:\n",
    "        print(item)"
   ]
  },
  {
   "cell_type": "code",
   "execution_count": 139,
   "metadata": {},
   "outputs": [
    {
     "name": "stdout",
     "output_type": "stream",
     "text": [
      "['desk', 'desk', 'desk']\n"
     ]
    }
   ],
   "source": [
    "# this could conveniently be added a to a new empty list!\n",
    "refined_office = []\n",
    "\n",
    "for item in office:\n",
    "    if 'e' in item and 's' in item:\n",
    "        refined_office.append(item)\n",
    "\n",
    "print(refined_office)"
   ]
  },
  {
   "cell_type": "code",
   "execution_count": null,
   "metadata": {},
   "outputs": [],
   "source": []
  }
 ],
 "metadata": {
  "kernelspec": {
   "display_name": "Python 3 ",
   "language": "python",
   "name": "python3"
  },
  "language_info": {
   "codemirror_mode": {
    "name": "ipython",
    "version": 3
   },
   "file_extension": ".py",
   "mimetype": "text/x-python",
   "name": "python",
   "nbconvert_exporter": "python",
   "pygments_lexer": "ipython3",
   "version": "3.10.14"
  }
 },
 "nbformat": 4,
 "nbformat_minor": 4
}

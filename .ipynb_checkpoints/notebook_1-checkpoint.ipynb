{
 "cells": [
  {
   "cell_type": "markdown",
   "id": "92d648f3-0cb5-4c71-828a-9754fc70ad0d",
   "metadata": {},
   "source": [
    "# Jupyter notebook 1"
   ]
  },
  {
   "cell_type": "markdown",
   "id": "c216a417-b409-4d4d-8e12-b3913fb4d1de",
   "metadata": {},
   "source": [
    "## Title 1"
   ]
  },
  {
   "cell_type": "markdown",
   "id": "e32b2477-c725-4666-bbc5-50e77afdd096",
   "metadata": {},
   "source": [
    "*some markdown description*"
   ]
  },
  {
   "cell_type": "code",
   "execution_count": null,
   "id": "166bbd36-7205-497a-aba4-dc2aaba7d06a",
   "metadata": {},
   "outputs": [],
   "source": []
  }
 ],
 "metadata": {
  "kernelspec": {
   "display_name": "Python 3 ",
   "language": "python",
   "name": "python3"
  },
  "language_info": {
   "codemirror_mode": {
    "name": "ipython",
    "version": 3
   },
   "file_extension": ".py",
   "mimetype": "text/x-python",
   "name": "python",
   "nbconvert_exporter": "python",
   "pygments_lexer": "ipython3",
   "version": "3.10.14"
  }
 },
 "nbformat": 4,
 "nbformat_minor": 5
}
